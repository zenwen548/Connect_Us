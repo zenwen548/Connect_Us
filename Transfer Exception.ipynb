{
 "cells": [
  {
   "cell_type": "code",
   "execution_count": 1,
   "id": "7dc1090f",
   "metadata": {},
   "outputs": [
    {
     "data": {
      "application/vnd.jupyter.widget-view+json": {
       "model_id": "ef96fdb40ad0439ca8f95b731ee9ca4f",
       "version_major": 2,
       "version_minor": 0
      },
      "text/plain": [
       "Text(value='', description='Excel Source File Path:', layout=Layout(width='50%'), placeholder='Enter the full …"
      ]
     },
     "metadata": {},
     "output_type": "display_data"
    },
    {
     "data": {
      "application/vnd.jupyter.widget-view+json": {
       "model_id": "fa6dec324b0240958b42fe8c19146c43",
       "version_major": 2,
       "version_minor": 0
      },
      "text/plain": [
       "Text(value='', description='PDF Template:', layout=Layout(width='50%'), placeholder='Enter the full path to yo…"
      ]
     },
     "metadata": {},
     "output_type": "display_data"
    },
    {
     "data": {
      "application/vnd.jupyter.widget-view+json": {
       "model_id": "4b1ad03e15794844b98192219f46e564",
       "version_major": 2,
       "version_minor": 0
      },
      "text/plain": [
       "Text(value='', description='Save Path:', layout=Layout(width='50%'), placeholder='Enter the path where you wan…"
      ]
     },
     "metadata": {},
     "output_type": "display_data"
    },
    {
     "data": {
      "application/vnd.jupyter.widget-view+json": {
       "model_id": "09c8ebaa4e4648219fc00fe3793feb0b",
       "version_major": 2,
       "version_minor": 0
      },
      "text/plain": [
       "Dropdown(description='Name Case:', layout=Layout(width='50%'), options=(('None', 'None'), ('Upper', 'Upper'), …"
      ]
     },
     "metadata": {},
     "output_type": "display_data"
    },
    {
     "data": {
      "application/vnd.jupyter.widget-view+json": {
       "model_id": "72be3759c80643e79fa6453a45388954",
       "version_major": 2,
       "version_minor": 0
      },
      "text/plain": [
       "Text(value='', description='Rep Name:', layout=Layout(width='50%'), placeholder='Enter Rep Name', style=Descri…"
      ]
     },
     "metadata": {},
     "output_type": "display_data"
    },
    {
     "data": {
      "application/vnd.jupyter.widget-view+json": {
       "model_id": "907d5c0f50364869b921fe3c6a8e502a",
       "version_major": 2,
       "version_minor": 0
      },
      "text/plain": [
       "Text(value='', description='Rep ID:', layout=Layout(width='50%'), placeholder='Enter Rep ID', style=Descriptio…"
      ]
     },
     "metadata": {},
     "output_type": "display_data"
    },
    {
     "data": {
      "application/vnd.jupyter.widget-view+json": {
       "model_id": "635c700d38b7424399736912e2ae479a",
       "version_major": 2,
       "version_minor": 0
      },
      "text/plain": [
       "Button(description='Process PDFs', style=ButtonStyle())"
      ]
     },
     "metadata": {},
     "output_type": "display_data"
    },
    {
     "data": {
      "application/vnd.jupyter.widget-view+json": {
       "model_id": "a94fc35edcf94e0f99dd5e190a7cdeef",
       "version_major": 2,
       "version_minor": 0
      },
      "text/plain": [
       "Output()"
      ]
     },
     "metadata": {},
     "output_type": "display_data"
    }
   ],
   "source": [
    "try:\n",
    "    import fitz  # PyMuPDF goes by `fitz`\n",
    "except ImportError:\n",
    "    !pip install PyMuPDF\n",
    "    import fitz  # Try the import again after installing\n",
    "    \n",
    "import ipywidgets as widgets\n",
    "from IPython.display import display, clear_output\n",
    "import pandas as pd\n",
    "import fitz  # PyMuPDF\n",
    "from datetime import datetime\n",
    "import re  # Import the re module for regex operations\n",
    "\n",
    "# Define the style for the widgets\n",
    "style = {'description_width': 'initial'}\n",
    "\n",
    "# Widget Definitions\n",
    "excel_file_input = widgets.Text(placeholder='Enter the full path to your Excel file', layout=widgets.Layout(width='50%'), style=style, description='Excel Source File Path:')\n",
    "pdf_template_input = widgets.Text(placeholder='Enter the full path to your PDF template', layout=widgets.Layout(width='50%'), style=style, description='PDF Template:')\n",
    "save_path_input = widgets.Text(placeholder='Enter the path where you want to save the updated PDFs', layout=widgets.Layout(width='50%'), style=style, description='Save Path:')\n",
    "Rep = widgets.Text(placeholder='Enter Rep Name', layout=widgets.Layout(width='50%'), style=style, description='Rep Name:')\n",
    "Rep_ID = widgets.Text(placeholder='Enter Rep ID', layout=widgets.Layout(width='50%'), style=style, description='Rep ID:')\n",
    "\n",
    "case_conversion_dropdown = widgets.Dropdown(\n",
    "    options=[('None', 'None'), ('Upper', 'Upper'), ('Lower', 'Lower')],\n",
    "    value='None',\n",
    "    description='Name Case:',\n",
    "    layout=widgets.Layout(width='50%'), style=style,\n",
    ")\n",
    "process_button = widgets.Button(description=\"Process PDFs\")\n",
    "output = widgets.Output()\n",
    "\n",
    "# Function to remove double quotes from the start and end of a string\n",
    "def remove_quotes(string):\n",
    "    return string.strip(\"\\\"\")\n",
    "\n",
    "# Function to apply case conversion based on the user's choice\n",
    "def apply_case_conversion(name, choice):\n",
    "    if choice == 'Upper':\n",
    "        return name.upper()\n",
    "    elif choice == 'Lower':\n",
    "        return name.lower()\n",
    "    # Return the name as is if choice is 'None' or any other value\n",
    "    return name\n",
    "\n",
    "# Event Handler for the Button Click\n",
    "def on_button_clicked(b):\n",
    "    with output:\n",
    "        clear_output()\n",
    "        print(\"Starting PDF processing...\")\n",
    "        total_rows = 0\n",
    "        successful_completions = 0\n",
    "        errors_count = 0\n",
    "        duplicates_count = 0\n",
    "        try:\n",
    "            # Sanitize input paths\n",
    "            excel_path = remove_quotes(excel_file_input.value)\n",
    "            template_path = remove_quotes(pdf_template_input.value)\n",
    "            save_path = remove_quotes(save_path_input.value)\n",
    "            \n",
    "            # Ensure save_path ends with a slash (or backslash, depending on the OS)\n",
    "            if not save_path.endswith(('/', '\\\\')):\n",
    "                save_path += '/'\n",
    "            \n",
    "            # Read the Excel file\n",
    "            df = pd.read_excel(excel_path)\n",
    "\n",
    "            # Check for the required column 'Full Name' in the Excel file\n",
    "            required_column = 'Full Name'\n",
    "            if required_column not in df.columns:\n",
    "                raise ValueError(f\"The Excel file does not contain the required column '{required_column}'.\")\n",
    "            \n",
    "           # Convert the 'Full Name' column to strings\n",
    "            df['Full Name'] = df['Full Name'].astype(str)\n",
    "            total_rows = len(df)  # Total number of rows to process \n",
    "            \n",
    "            # Format today's date\n",
    "            todays_date = datetime.today().strftime('%m-%d-%Y')\n",
    "            \n",
    "            pdf_document = fitz.open(template_path)\n",
    "            \n",
    "            \n",
    "            # Check for required PDF fields\n",
    "            required_fields = [\"Check Box1\", \"Enter your full legal name here\", \"Date1_af_date\", \"Enter Representative Signature here\", \"Enter Representative ID here\"]\n",
    "            pdf_fields = [widget.field_name for page in pdf_document for widget in page.widgets()]\n",
    "            \n",
    "            missing_fields = [field for field in required_fields if field not in pdf_fields]\n",
    "            if missing_fields:\n",
    "                missing_fields_str = \", \".join(missing_fields)\n",
    "                raise ValueError(f\"The PDF template is missing the following required fields: {missing_fields_str}.\")\n",
    "            \n",
    "            \n",
    "            pdf_document.close()\n",
    "            \n",
    "            # Initialize the set and list to keep track of processed names and errors\n",
    "            processed_names_set = set()\n",
    "            processed_names_list = []\n",
    "            errors_list = []\n",
    "            \n",
    "            # Get the user's choice for case conversion\n",
    "            case_choice = case_conversion_dropdown.value\n",
    "            \n",
    "            # Process each row in the DataFrame\n",
    "            for index, row in df.iterrows():\n",
    "                document_opened = False\n",
    "                \n",
    "                try:\n",
    "                    # Validate the 'Full Name' field\n",
    "                    full_name = row['Full Name']\n",
    "                    # Skipping explicit null check as it's redundant now\n",
    "                    if full_name.strip() == '' or full_name == 'nan':\n",
    "                        raise ValueError(f\"Full Name is empty at row {index + 1}.\")\n",
    "                    # Removed isinstance check since full_name is always a string now\n",
    "                    if len(full_name.strip()) < 5:\n",
    "                        raise ValueError(f\"Full Name '{full_name}' is too short at row {index + 1}.\")\n",
    "                    if not re.match(\"^[a-zA-Z ,.'-]+$\", full_name):\n",
    "                        raise ValueError(f\"Full Name '{full_name}' contains invalid characters at row {index + 1}.\")\n",
    "\n",
    "                    full_name = apply_case_conversion(full_name, case_choice)\n",
    "                    \n",
    "                    # Check for duplicate names\n",
    "                    if full_name in processed_names_set:\n",
    "                        print(f\"Duplicate detected for '{full_name}' at row {index + 1}, skipped duplicate record.\")\n",
    "                        duplicates_count += 1\n",
    "                        continue  # Skip processing this duplicate name\n",
    "                    \n",
    "                    \n",
    "                    pdf_document = fitz.open(template_path)\n",
    "                    document_opened = True  # This line is necessary to indicate the document is now open\n",
    "                    \n",
    "                    \n",
    "                    # Fill in the form fields\n",
    "                    for page in pdf_document:\n",
    "                        widgets = page.widgets()\n",
    "                        for widget in widgets:\n",
    "                            if widget.field_name == \"Check Box1\":\n",
    "                                widget.field_value = widget.on_state()\n",
    "                                widget.update()\n",
    "                            elif widget.field_name == \"Enter your full legal name here\":\n",
    "                                widget.field_value = full_name\n",
    "                                widget.update()\n",
    "                            elif widget.field_name in [\"Date1_af_date\", \"Date2_af_date\"]:\n",
    "                                widget.field_value = todays_date\n",
    "                                widget.update()\n",
    "                            elif widget.field_name == \"Enter Representative Signature here\":\n",
    "                                widget.field_value = Rep.value\n",
    "                                widget.update()\n",
    "                            elif widget.field_name == \"Enter Representative ID here\":\n",
    "                                widget.field_value = Rep_ID.value\n",
    "                                widget.update()\n",
    "                    \n",
    "                    new_filename = f\"TransferExceptionForm_{todays_date}_{full_name.replace(' ', '_')}.pdf\"\n",
    "                    updated_pdf_path = f\"{save_path}{new_filename}\"\n",
    "                    \n",
    "                    pdf_document.save(updated_pdf_path)\n",
    "                    successful_completions += 1\n",
    "                    #print(f\"PDF saved as {new_filename}.\")\n",
    "                    \n",
    "                    processed_names_set.add(full_name)\n",
    "                    processed_names_list.append(full_name)\n",
    "                \n",
    "                except Exception as e:\n",
    "                    errors_count += 1\n",
    "                    error_message = f\"Error processing '{full_name if 'full_name' in locals() else 'Unknown'}' at row {index + 1}: {str(e)}\"\n",
    "                    errors_list.append(error_message)\n",
    "                    print(error_message)\n",
    "                \n",
    "                finally:\n",
    "                    # Only attempt to close the document if it has been opened\n",
    "                    if document_opened:\n",
    "                        \n",
    "                        pdf_document.close()\n",
    "                        \n",
    "            \n",
    "            print(\"\\nCompleted processing all rows.\")\n",
    "            # Display summary of processing\n",
    "            print(f\"\\nSummary of processing: {successful_completions} out of {total_rows} rows were completed successfully.\")\n",
    "            print(f\"Errors encountered: {errors_count}. Duplicates skipped: {duplicates_count}.\")\n",
    "            \n",
    "            if processed_names_list:\n",
    "                pd.DataFrame(processed_names_list, columns=['Processed Names']).to_csv(f\"{save_path}processed_names_{todays_date}.csv\", index=False)\n",
    "                print(f\"\\nProcessed names saved to {save_path}processed_names_{todays_date}.csv\")\n",
    "            if errors_list:\n",
    "                pd.DataFrame(errors_list, columns=['Errors']).to_csv(f\"{save_path}errors_{todays_date}.csv\", index=False)\n",
    "                print(f\"\\nErrors saved to {save_path}errors_{todays_date}.csv\")\n",
    "                \n",
    "        except Exception as e:\n",
    "            print(f\"An error occurred: {e}\")\n",
    "        \n",
    "# Bind the button click event to the handler\n",
    "process_button.on_click(on_button_clicked)\n",
    "\n",
    "# Display the UI components\n",
    "display(excel_file_input, pdf_template_input, save_path_input, case_conversion_dropdown, Rep, Rep_ID, process_button, output)\n"
   ]
  },
  {
   "cell_type": "code",
   "execution_count": null,
   "id": "8ad915c2",
   "metadata": {},
   "outputs": [],
   "source": []
  }
 ],
 "metadata": {
  "kernelspec": {
   "display_name": "Python 3 (ipykernel)",
   "language": "python",
   "name": "python3"
  },
  "language_info": {
   "codemirror_mode": {
    "name": "ipython",
    "version": 3
   },
   "file_extension": ".py",
   "mimetype": "text/x-python",
   "name": "python",
   "nbconvert_exporter": "python",
   "pygments_lexer": "ipython3",
   "version": "3.10.9"
  }
 },
 "nbformat": 4,
 "nbformat_minor": 5
}
